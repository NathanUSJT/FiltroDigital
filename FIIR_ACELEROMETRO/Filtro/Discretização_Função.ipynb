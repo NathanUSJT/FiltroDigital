{
 "cells": [
  {
   "cell_type": "code",
   "execution_count": 1,
   "id": "e0f85a8d-7b37-4b0d-b48f-a35a1c0dfa1c",
   "metadata": {},
   "outputs": [],
   "source": [
    "# Importação de bibliotecas\n",
    "from scipy import signal\n",
    "import matplotlib.pyplot as plt\n",
    "import numpy as np\n",
    "import math"
   ]
  },
  {
   "cell_type": "code",
   "execution_count": 2,
   "id": "b031e618-12ba-4f88-81df-dc6d7f60aaaf",
   "metadata": {},
   "outputs": [],
   "source": [
    "# Construção da Função de Transferência\n",
    "num = [778.03];      # Coeficientes do numerador da função\n",
    "den = [1,50.93,778.03];        # Coeficientes do denominador da função\n",
    "butterworth = signal.TransferFunction(num,den) # Função de Transferência no Tempo\n"
   ]
  },
  {
   "cell_type": "code",
   "execution_count": 3,
   "id": "44ce5e09-8747-4aca-82da-dabfdc36f3d2",
   "metadata": {},
   "outputs": [
    {
     "name": "stdout",
     "output_type": "stream",
     "text": [
      "TransferFunctionDiscrete(\n",
      "array([0.04902202, 0.09804405, 0.04902202]),\n",
      "array([ 1.        , -1.16211361,  0.3582017 ]),\n",
      "dt: 0.02\n",
      ")\n"
     ]
    }
   ],
   "source": [
    "# Discretizção da Função de Transferência\n",
    "dt = 1.0/50; #Frequência de amostragem 1000Hz\n",
    "discreteButterworth = butterworth.to_discrete(dt,method='gbt',alpha=0.5) #Método Tustin\n",
    "print(discreteButterworth)"
   ]
  },
  {
   "cell_type": "code",
   "execution_count": 4,
   "id": "3b704b23-18d8-4d30-89e0-00fd8c66d543",
   "metadata": {},
   "outputs": [
    {
     "name": "stdout",
     "output_type": "stream",
     "text": [
      "Filter coefficients b_i: [0.04902202 0.09804405 0.04902202]\n",
      "Filter coefficients a_i: [ 1.16211361 -0.3582017 ]\n"
     ]
    }
   ],
   "source": [
    "# Coeficientes da Função Discretizada com o sinal do denominador trocado.\n",
    "b = discreteButterworth.num;\n",
    "a = -discreteButterworth.den;\n",
    "print(\"Filter coefficients b_i: \" + str(b))\n",
    "print(\"Filter coefficients a_i: \" + str(a[1:]))"
   ]
  },
  {
   "cell_type": "code",
   "execution_count": null,
   "id": "fb5bf925-8a1f-4430-b94e-08b12d694b73",
   "metadata": {},
   "outputs": [],
   "source": []
  }
 ],
 "metadata": {
  "kernelspec": {
   "display_name": "Python 3 (ipykernel)",
   "language": "python",
   "name": "python3"
  },
  "language_info": {
   "codemirror_mode": {
    "name": "ipython",
    "version": 3
   },
   "file_extension": ".py",
   "mimetype": "text/x-python",
   "name": "python",
   "nbconvert_exporter": "python",
   "pygments_lexer": "ipython3",
   "version": "3.9.12"
  }
 },
 "nbformat": 4,
 "nbformat_minor": 5
}
